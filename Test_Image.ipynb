{
 "cells": [
  {
   "cell_type": "code",
   "execution_count": 68,
   "metadata": {},
   "outputs": [],
   "source": [
    "from qiskit import IBMQ, QuantumCircuit, ClassicalRegister, QuantumRegister\n",
    "from qiskit import execute, QuantumRegister\n",
    "from qiskit.qasm import pi\n",
    "from qiskit.tools.visualization import plot_histogram, circuit_drawer\n",
    "from qiskit import execute, Aer, BasicAer\n",
    "import numpy as np\n",
    "import matplotlib.pyplot as plt\n",
    "from PIL import Image\n",
    "from resizeimage import resizeimage\n",
    "import warnings\n",
    "warnings.filterwarnings('ignore')\n",
    "from qiskit.aqua.circuits.fourier_transform_circuits import FourierTransformCircuits"
   ]
  },
  {
   "cell_type": "code",
   "execution_count": 69,
   "metadata": {},
   "outputs": [],
   "source": [
    "import frqi                                                                     \n",
    "import quantum_edge_detection as qed"
   ]
  },
  {
   "cell_type": "code",
   "execution_count": 70,
   "metadata": {},
   "outputs": [
    {
     "name": "stderr",
     "output_type": "stream",
     "text": [
      "Credentials are already in use. The existing account in the session will be replaced.\n"
     ]
    }
   ],
   "source": [
    "IBMQ.load_account()\n",
    "provider = IBMQ.get_provider(hub=\"ibm-q-university\", group=\"columbia-univers\", project=\"comse-6998-2020\")"
   ]
  },
  {
   "cell_type": "code",
   "execution_count": 71,
   "metadata": {},
   "outputs": [],
   "source": [
    "anc = QuantumRegister(1, \"anc\")\n",
    "img = QuantumRegister(11, \"img\")\n",
    "anc2 = QuantumRegister(1, \"anc2\")\n",
    "c = ClassicalRegister(12)\n",
    "\n",
    "qc = QuantumCircuit(anc, img, anc2, c)\n",
    "\n",
    "imageNames = [\"download.jpeg\",\"Pic.jpg\",\"Original 640x426/Tokyo - ISS030-E-82770.JPG\", \"Original 640x426/Osaka - ISS030-E-184140.JPG\", \"Original 640x426/Nagoya - ISS038-E-11205.JPG\"]\n",
    "imageNum1 = 1\n",
    "#imageNum2 = 2\n",
    "\n",
    "#image2 = Image.open(imageNames[imageNum1])\n",
    "#image2.thumbnail([32,32])\n",
    "#image2.save(\"img_small.jpeg\", \"JPEG\")\n",
    "#image2 = Image.open(imageNames[imageNum2]).convert('LA')\n",
    "image1 = Image.open(imageNames[imageNum1]).convert('LA')\n",
    "\n",
    "def image_normalization(image):\n",
    "    image = resizeimage.resize_cover(image, [32, 32])\n",
    "    w, h = 32, 32\n",
    "    image = np.array([[image.getpixel((x,y))[0] for x in range(w)] for y in range(h)])\n",
    "\n",
    "    # 2-dimentional data convert to 1-dimentional array\n",
    "    image = image.flatten()\n",
    "    # change type\n",
    "    image = image.astype('float64')\n",
    "    # Normalization(0~pi/2)\n",
    "    image /= 255.0\n",
    "    generated_image = np.arcsin(image)\n",
    "\n",
    "    return generated_image\n",
    "\n",
    "image1 = image_normalization(image1)\n",
    "#image2 = image_normalization(image2)"
   ]
  },
  {
   "cell_type": "code",
   "execution_count": 72,
   "metadata": {},
   "outputs": [],
   "source": [
    "def qft_rotations(circuit, n):\n",
    "    \"\"\"Performs qft on the first n qubits in circuit (without swaps)\"\"\"\n",
    "    if n == 0:\n",
    "        return circuit\n",
    "    n -= 1\n",
    "    circuit.h(n)\n",
    "    for qubit in range(n):\n",
    "        circuit.cu1(pi/2**(n-qubit), qubit, n)\n",
    "    # At the end of our function, we call the same function again on\n",
    "    # the next qubits (we reduced n by one earlier in the function)\n",
    "    qft_rotations(circuit, n)\n",
    "\n",
    "def swap_registers(circuit, n):\n",
    "    for qubit in range(n//2):\n",
    "        circuit.swap(qubit, n-qubit-1)\n",
    "    return circuit\n",
    "\n",
    "def qft(circuit, n):\n",
    "    \"\"\"QFT on the first n qubits in circuit\"\"\"\n",
    "    qft_rotations(circuit, n)\n",
    "    swap_registers(circuit, n)\n",
    "    return circuit"
   ]
  },
  {
   "cell_type": "code",
   "execution_count": 73,
   "metadata": {},
   "outputs": [
    {
     "name": "stdout",
     "output_type": "stream",
     "text": [
      "72289\n"
     ]
    }
   ],
   "source": [
    "# apply hadamard gates\n",
    "for i in range(1, len(img)):\n",
    "    qc.h(img[i])\n",
    "\n",
    "# encode ref image\n",
    "for i in range(len(image1)):\n",
    "        if image1[i] != 0:\n",
    "                frqi.c10mary(qc, 2 * image1[i], format(i, '010b'), img[0], anc2[0], [img[j] for j in range(1,len(img))])\n",
    "\n",
    "#qed.quantum_edge_detection(qc)\n",
    "FourierTransformCircuits.construct_circuit(qc, qc.qubits)\n",
    "#print(len(qc.qubits))\n",
    "#qft(qc, len(qc.qubits))\n",
    "#epsilon = -1\n",
    "#qubits = qc.qubits\n",
    "#n_qubits = qc.n_qubits\n",
    "#for i in range(n_qubits):\n",
    "#    qc.u1(float(2 * pi * epsilon)/2**(i + 1), qubits[n_qubits - i - 1])\n",
    "\n",
    "\n",
    "qc.measure(anc, c[0])\n",
    "qc.measure(img, c[1:12])\n",
    "print(qc.depth())\n",
    "numOfShots = 8192 * 10\n",
    "#result = execute(qc, provider.get_backend('ibmq_qasm_simulator'), shots=numOfShots, backend_options={\"fusion_enable\":True}).result()\n",
    "backend = Aer.get_backend('qasm_simulator') \n",
    "result = execute(qc, backend, shots=numOfShots, backend_options={\"fusion_enable\":True}).result()"
   ]
  },
  {
   "cell_type": "code",
   "execution_count": 74,
   "metadata": {},
   "outputs": [],
   "source": [
    "#print(result.get_counts(qc))"
   ]
  },
  {
   "cell_type": "code",
   "execution_count": 75,
   "metadata": {},
   "outputs": [
    {
     "data": {
      "image/png": "[encoded data removed]",
      "text/plain": [
       "<Figure size 432x288 with 1 Axes>"
      ]
     },
     "metadata": {
      "needs_background": "light"
     },
     "output_type": "display_data"
    }
   ],
   "source": [
    "# generated image\n",
    "genimg = np.array([])\n",
    "\n",
    "#### decode\n",
    "for i in range(len(image1)):\n",
    "        try:\n",
    "                genimg = np.append(genimg,[np.sqrt(result.get_counts(qc)[format(i, '010b')+'10']/numOfShots)])\n",
    "        except KeyError:\n",
    "                genimg = np.append(genimg,[0.0])\n",
    "\n",
    "#genimg = np.log(np.abs(genimg))\n",
    "# inverse nomalization\n",
    "genimg *= 32.0 * 255.0\n",
    "\n",
    "# convert type\n",
    "genimg = genimg.astype('int')\n",
    "\n",
    "# back to 2-dimentional data\n",
    "genimg = genimg.reshape((32,32))\n",
    "\n",
    "plt.imshow(genimg, cmap='gray', vmin=0, vmax=255)\n",
    "plt.savefig('gen_'+str(imageNum1)+'.png')\n",
    "plt.show()"
   ]
  },
  {
   "cell_type": "code",
   "execution_count": 76,
   "metadata": {},
   "outputs": [
    {
     "data": {
      "image/png": "[encoded data removed]",
      "text/plain": [
       "<Figure size 432x288 with 1 Axes>"
      ]
     },
     "metadata": {
      "needs_background": "light"
     },
     "output_type": "display_data"
    }
   ],
   "source": [
    "from numpy.fft import fft2, fftshift, ifftshift, ifft2\n",
    "fft_new = fftshift(fft2(image1.reshape(32,32)))\n",
    "img_ff = np.log(np.abs(fft_new))\n",
    "plt.imshow(img_ff, cmap='gray')\n",
    "#plt.savefig('gen_'+str(imageNum1)+'.png')\n",
    "plt.show()"
   ]
  },
  {
   "cell_type": "code",
   "execution_count": null,
   "metadata": {},
   "outputs": [],
   "source": [
    "from IPython.display import Image as show_img\n",
    "show_img(filename='download.jpeg') "
   ]
  },
  {
   "cell_type": "code",
   "execution_count": 35,
   "metadata": {},
   "outputs": [],
   "source": [
    "from scipy.signal import convolve2d\n",
    "def gray2rgb(image):\n",
    "    return np.repeat(np.expand_dims(image, 2), 3, axis=2)\n",
    "\n",
    "def load_image(filename):\n",
    "    img = np.asarray(Image.open(filename))\n",
    "    img = img.astype(\"float32\") / 255.\n",
    "    return img\n",
    "\n",
    "def show_image(img):\n",
    "    if len(img.shape) == 2:\n",
    "        img = gray2rgb(img)\n",
    "    plt.imshow(img, interpolation='nearest')"
   ]
  },
  {
   "cell_type": "code",
   "execution_count": 77,
   "metadata": {},
   "outputs": [
    {
     "data": {
      "image/png": "[encoded data removed]",
      "text/plain": [
       "<Figure size 432x288 with 1 Axes>"
      ]
     },
     "metadata": {
      "needs_background": "light"
     },
     "output_type": "display_data"
    }
   ],
   "source": [
    "im = load_image(imageNames[imageNum1])\n",
    "im = im.mean(axis=2) # convert to grayscale\n",
    "show_image(im/2)"
   ]
  },
  {
   "cell_type": "code",
   "execution_count": 46,
   "metadata": {},
   "outputs": [
    {
     "data": {
      "text/plain": [
       "<matplotlib.image.AxesImage at 0x7f31c6b177b8>"
      ]
     },
     "execution_count": 46,
     "metadata": {},
     "output_type": "execute_result"
    },
    {
     "data": {
      "image/png": "[encoded data removed]",
      "text/plain": [
       "<Figure size 432x288 with 1 Axes>"
      ]
     },
     "metadata": {
      "needs_background": "light"
     },
     "output_type": "display_data"
    }
   ],
   "source": [
    "#delta_filt = np.array([1,-1,-1,1]).reshape(2,2)\n",
    "delta_filt = np.array([1,-1]).reshape(1,2)\n",
    "plt.imshow(convolve2d(im, delta_filt), cmap='gray')"
   ]
  },
  {
   "cell_type": "code",
   "execution_count": 34,
   "metadata": {},
   "outputs": [],
   "source": []
  },
  {
   "cell_type": "code",
   "execution_count": null,
   "metadata": {},
   "outputs": [],
   "source": []
  }
 ],
 "metadata": {
  "kernelspec": {
   "display_name": "Python 3",
   "language": "python",
   "name": "python3"
  },
  "language_info": {
   "codemirror_mode": {
    "name": "ipython",
    "version": 3
   },
   "file_extension": ".py",
   "mimetype": "text/x-python",
   "name": "python",
   "nbconvert_exporter": "python",
   "pygments_lexer": "ipython3",
   "version": "3.6.9"
  }
 },
 "nbformat": 4,
 "nbformat_minor": 4
}
