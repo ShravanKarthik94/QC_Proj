{
 "cells": [
  {
   "cell_type": "code",
   "execution_count": 1,
   "metadata": {},
   "outputs": [],
   "source": [
    "from qiskit import IBMQ, QuantumCircuit, ClassicalRegister, QuantumRegister\n",
    "from qiskit import execute, QuantumRegister\n",
    "from qiskit.qasm import pi\n",
    "from qiskit.tools.visualization import plot_histogram, circuit_drawer\n",
    "from qiskit import execute, Aer, BasicAer\n",
    "import numpy as np\n",
    "import matplotlib.pyplot as plt\n",
    "from PIL import Image\n",
    "from resizeimage import resizeimage\n",
    "import warnings\n",
    "warnings.filterwarnings('ignore')\n",
    "from qiskit.aqua.circuits.fourier_transform_circuits import FourierTransformCircuits"
   ]
  },
  {
   "cell_type": "code",
   "execution_count": 2,
   "metadata": {},
   "outputs": [
    {
     "name": "stderr",
     "output_type": "stream",
     "text": [
      "Using TensorFlow backend.\n"
     ]
    }
   ],
   "source": [
    "import frqi                                                                     \n",
    "import quantum_edge_detection as qed"
   ]
  },
  {
   "cell_type": "code",
   "execution_count": 3,
   "metadata": {},
   "outputs": [],
   "source": [
    "IBMQ.load_account()\n",
    "provider = IBMQ.get_provider(hub=\"ibm-q-university\", group=\"columbia-univers\", project=\"comse-6998-2020\")"
   ]
  },
  {
   "cell_type": "code",
   "execution_count": 4,
   "metadata": {},
   "outputs": [],
   "source": [
    "# To store account info\n",
    "#from qiskit import IBMQ\n",
    "#IBMQ.save_account('d6b8341cf93840fcc1102abcda046ffed464d0d10c968ea9ebcedcb76044fe3732c7bed54e2b697fd4c8f8ed42676775f341d05509d59c157a7ebd410630e6c2')"
   ]
  },
  {
   "cell_type": "code",
   "execution_count": 5,
   "metadata": {},
   "outputs": [],
   "source": [
    "anc = QuantumRegister(1, \"anc\")\n",
    "img = QuantumRegister(11, \"img\")\n",
    "anc2 = QuantumRegister(1, \"anc2\")\n",
    "c = ClassicalRegister(12)\n",
    "\n",
    "qc = QuantumCircuit(anc, img, anc2, c)\n",
    "\n",
    "imageNames = [\"Pic.jpg\",\"Original 640x426/Tokyo - ISS030-E-82770.JPG\", \"Original 640x426/Osaka - ISS030-E-184140.JPG\", \"Original 640x426/Nagoya - ISS038-E-11205.JPG\"]\n",
    "imageNum1 = 0\n",
    "#imageNum2 = 2\n",
    "\n",
    "image2 = Image.open(imageNames[imageNum1])\n",
    "image2.thumbnail([32,32])\n",
    "image2.save(\"img_small.jpeg\", \"JPEG\")\n",
    "image1 = Image.open(imageNames[imageNum1]).convert('LA')\n",
    "#image2 = Image.open(imageNames[imageNum2]).convert('LA')\n",
    "\n",
    "def image_normalization(image):\n",
    "    image = resizeimage.resize_cover(image, [32, 32])\n",
    "    w, h = 32, 32\n",
    "    image = np.array([[image.getpixel((x,y))[0] for x in range(w)] for y in range(h)])\n",
    "\n",
    "    # 2-dimentional data convert to 1-dimentional array\n",
    "    image = image.flatten()\n",
    "    # change type\n",
    "    image = image.astype('float64')\n",
    "    # Normalization(0~pi/2)\n",
    "    image /= 255.0\n",
    "    generated_image = np.arcsin(image)\n",
    "\n",
    "    return generated_image\n",
    "\n",
    "image1 = image_normalization(image1)\n",
    "#image2 = image_normalization(image2)"
   ]
  },
  {
   "cell_type": "code",
   "execution_count": 6,
   "metadata": {},
   "outputs": [
    {
     "name": "stdout",
     "output_type": "stream",
     "text": [
      "72192\n"
     ]
    }
   ],
   "source": [
    "# apply hadamard gates\n",
    "for i in range(1, len(img)):\n",
    "    qc.h(img[i])\n",
    "\n",
    "# encode ref image\n",
    "for i in range(len(image1)):\n",
    "        if image1[i] != 0:\n",
    "                frqi.c10mary(qc, 2 * image1[i], format(i, '010b'), img[0], anc2[0], [img[j] for j in range(1,len(img))])\n",
    "\n",
    "#qed.quantum_edge_detection(qc)\n",
    "#FourierTransformCircuits.construct_circuit(qc, qc.qubits)\n",
    "qc.measure(anc, c[0])\n",
    "qc.measure(img, c[1:12])\n",
    "print(qc.depth())\n",
    "numOfShots = 8192\n",
    "result = execute(qc, provider.get_backend('ibmq_qasm_simulator'), shots=numOfShots, backend_options={\"fusion_enable\":True}).result()\n"
   ]
  },
  {
   "cell_type": "code",
   "execution_count": null,
   "metadata": {},
   "outputs": [],
   "source": [
    "#circuit_drawer(qc).show()"
   ]
  },
  {
   "cell_type": "code",
   "execution_count": null,
   "metadata": {},
   "outputs": [],
   "source": [
    "#plot_histogram(result.get_counts(qc))"
   ]
  },
  {
   "cell_type": "code",
   "execution_count": null,
   "metadata": {},
   "outputs": [],
   "source": [
    "#print(result.get_counts(qc))"
   ]
  },
  {
   "cell_type": "code",
   "execution_count": 7,
   "metadata": {},
   "outputs": [
    {
     "data": {
      "image/png": "[encoded data removed]",
      "text/plain": [
       "<Figure size 432x288 with 1 Axes>"
      ]
     },
     "metadata": {
      "needs_background": "light"
     },
     "output_type": "display_data"
    }
   ],
   "source": [
    "# generated image\n",
    "genimg = np.array([])\n",
    "\n",
    "#### decode\n",
    "for i in range(len(image1)):\n",
    "        try:\n",
    "                genimg = np.append(genimg,[np.sqrt(result.get_counts(qc)[format(i, '010b')+'10']/numOfShots)])\n",
    "        except KeyError:\n",
    "                genimg = np.append(genimg,[0.0])\n",
    "\n",
    "#genimg = np.log(np.abs(genimg))\n",
    "# inverse nomalization\n",
    "genimg *= 32.0 * 255.0\n",
    "\n",
    "# convert type\n",
    "genimg = genimg.astype('int')\n",
    "\n",
    "# back to 2-dimentional data\n",
    "genimg = genimg.reshape((32,32))\n",
    "\n",
    "plt.imshow(genimg, cmap='gray', vmin=0, vmax=255)\n",
    "plt.savefig('gen_'+str(imageNum1)+'.png')\n",
    "plt.show()"
   ]
  },
  {
   "cell_type": "code",
   "execution_count": 32,
   "metadata": {},
   "outputs": [
    {
     "data": {
      "image/png": "[encoded data removed]",
      "text/plain": [
       "<Figure size 432x288 with 1 Axes>"
      ]
     },
     "metadata": {
      "needs_background": "light"
     },
     "output_type": "display_data"
    }
   ],
   "source": [
    "from numpy.fft import fft2, fftshift, ifftshift, ifft2\n",
    "fft_new = fftshift(fft2(image1.reshape(32,32)))\n",
    "img_ff = np.abs(fft_new)\n",
    "plt.imshow(img_ff, cmap='gray', vmin=0, vmax=255)\n",
    "#plt.savefig('gen_'+str(imageNum1)+'.png')\n",
    "plt.show()"
   ]
  },
  {
   "cell_type": "code",
   "execution_count": 25,
   "metadata": {},
   "outputs": [
    {
     "data": {
      "image/jpeg": "[encoded data removed]",
      "text/plain": [
       "<IPython.core.display.Image object>"
      ]
     },
     "execution_count": 25,
     "metadata": {},
     "output_type": "execute_result"
    }
   ],
   "source": [
    "from IPython.display import Image as show_img\n",
    "show_img(filename='img_small.jpeg') "
   ]
  },
  {
   "cell_type": "code",
   "execution_count": 15,
   "metadata": {},
   "outputs": [],
   "source": []
  },
  {
   "cell_type": "code",
   "execution_count": null,
   "metadata": {},
   "outputs": [],
   "source": []
  }
 ],
 "metadata": {
  "kernelspec": {
   "display_name": "Python 3",
   "language": "python",
   "name": "python3"
  },
  "language_info": {
   "codemirror_mode": {
    "name": "ipython",
    "version": 3
   },
   "file_extension": ".py",
   "mimetype": "text/x-python",
   "name": "python",
   "nbconvert_exporter": "python",
   "pygments_lexer": "ipython3",
   "version": "3.6.9"
  }
 },
 "nbformat": 4,
 "nbformat_minor": 4
}
