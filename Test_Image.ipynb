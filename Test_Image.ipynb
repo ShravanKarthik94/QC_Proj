{
 "cells": [
  {
   "cell_type": "code",
   "execution_count": 1,
   "metadata": {},
   "outputs": [],
   "source": [
    "from qiskit import IBMQ, QuantumCircuit, ClassicalRegister, QuantumRegister\n",
    "from qiskit import execute, QuantumRegister\n",
    "from qiskit.qasm import pi\n",
    "from qiskit.tools.visualization import plot_histogram, circuit_drawer\n",
    "from qiskit import execute, Aer, BasicAer\n",
    "import numpy as np\n",
    "import matplotlib.pyplot as plt\n",
    "from PIL import Image\n",
    "from resizeimage import resizeimage\n",
    "import warnings\n",
    "warnings.filterwarnings('ignore')\n",
    "from qiskit.aqua.circuits.fourier_transform_circuits import FourierTransformCircuits\n",
    "from scipy import misc\n",
    "from matplotlib.image import imread"
   ]
  },
  {
   "cell_type": "code",
   "execution_count": 2,
   "metadata": {},
   "outputs": [
    {
     "name": "stderr",
     "output_type": "stream",
     "text": [
      "Using TensorFlow backend.\n"
     ]
    }
   ],
   "source": [
    "import frqi                                                                     \n",
    "import quantum_edge_detection as qed"
   ]
  },
  {
   "cell_type": "code",
   "execution_count": 3,
   "metadata": {},
   "outputs": [],
   "source": [
    "IBMQ.load_account()\n",
    "provider = IBMQ.get_provider(hub=\"ibm-q-university\", group=\"columbia-univers\", project=\"comse-6998-2020\")"
   ]
  },
  {
   "cell_type": "code",
   "execution_count": 4,
   "metadata": {},
   "outputs": [],
   "source": [
    "def qft_rotations(circuit, n):\n",
    "    \"\"\"Performs qft on the first n qubits in circuit (without swaps)\"\"\"\n",
    "    if n == 0:\n",
    "        return circuit\n",
    "    n -= 1\n",
    "    circuit.h(n)\n",
    "    for qubit in range(n):\n",
    "        circuit.cu1(pi/2**(n-qubit), qubit, n)\n",
    "    # At the end of our function, we call the same function again on\n",
    "    # the next qubits (we reduced n by one earlier in the function)\n",
    "    qft_rotations(circuit, n)\n",
    "\n",
    "def swap_registers(circuit, n):\n",
    "    for qubit in range(n//2):\n",
    "        circuit.swap(qubit, n-qubit-1)\n",
    "    return circuit\n",
    "\n",
    "def qft(circuit, n):\n",
    "    \"\"\"QFT on the first n qubits in circuit\"\"\"\n",
    "    qft_rotations(circuit, n)\n",
    "    swap_registers(circuit, n)\n",
    "    return circuit"
   ]
  },
  {
   "cell_type": "code",
   "execution_count": 5,
   "metadata": {},
   "outputs": [],
   "source": [
    "# Function to perform reflection along a line passing through the origin with slope 1\n",
    "def swap_x_y(circ, img):\n",
    "    lencirc = int(len(img)/2)\n",
    "    start = 1\n",
    "    end = start + lencirc\n",
    "    for x in range(1, end):\n",
    "        circ.swap(img[x], img[x+lencirc])\n",
    "    return circ"
   ]
  },
  {
   "cell_type": "code",
   "execution_count": 6,
   "metadata": {},
   "outputs": [],
   "source": [
    "# Helper function to setup x rotations between necessary position bits\n",
    "def flip(circ, img, start):\n",
    "    end = start + int(len(img)/2)\n",
    "    for i in range(start, end):\n",
    "        circ.x(img[i])\n",
    "    return circ\n",
    "\n",
    "# Function to perform reflection along the x-axis\n",
    "def flip_x(circ, img):\n",
    "    start = 1 + int(len(img)/2)\n",
    "    return flip(circ, img, start)\n",
    "\n",
    "# Function to perform reflection along the y-axis\n",
    "def flip_y(circ, img):\n",
    "    start = 1\n",
    "    return flip(circ, img, start)"
   ]
  },
  {
   "cell_type": "code",
   "execution_count": 7,
   "metadata": {},
   "outputs": [],
   "source": [
    "#Function to perform rotation of image by 90 degrees anti-clockwise\n",
    "def r90(circ, img):\n",
    "    return swap_x_y(flip_y(circ, img), img)\n",
    "\n",
    "#Function to perform rotation of image by 180 degrees\n",
    "def r180(circ, img):\n",
    "    return flip_x(flip_y(circ, img), img)\n",
    "\n",
    "#Function to perform rotation of image by 270 degrees anti-clockwise\n",
    "def r270(circ, img):\n",
    "    return swap_x_y(flip_x(circ, img), img)"
   ]
  },
  {
   "cell_type": "code",
   "execution_count": 8,
   "metadata": {},
   "outputs": [],
   "source": [
    "#Flip Color intensity\n",
    "def color_flip(circ, img):\n",
    "    circ.x(img[0])\n",
    "    return circ\n",
    "\n",
    "#Function to darken upper half of the image\n",
    "def rotation_color_angle(circ, img, angle):\n",
    "    imglen = len(img)\n",
    "    circ.mcry(angle, [img[j] for j in [4,5,6,7,8,9,10]], img[0], None, mode='noancilla')\n",
    "    circ.mcry(angle/2, [img[j] for j in [1,2,3,6,7,8,9,10]], img[0], None, mode='noancilla')\n",
    "    return circ\n",
    "\n",
    "#Function to darken a specific blob in the image\n",
    "def trial_color_angle(circ, img, angle):\n",
    "    imglen = len(img)\n",
    "    circ.mcry(angle, [img[j] for j in [1,2,3,6,7,8]], img[0], None, mode='noancilla')\n",
    "    return circ"
   ]
  },
  {
   "cell_type": "code",
   "execution_count": 9,
   "metadata": {},
   "outputs": [],
   "source": [
    "# Convert black and white images to encodable form\n",
    "def image_normalization(image):\n",
    "    image = resizeimage.resize_cover(image, [32, 32])\n",
    "    w, h = 32, 32\n",
    "    image = np.array([[image.getpixel((x,y))[0] for x in range(w)] for y in range(h)])\n",
    "\n",
    "    # 2-dimentional data convert to 1-dimentional array\n",
    "    image = image.flatten()\n",
    "    # change type\n",
    "    image = image.astype('float64')\n",
    "    # Normalization(0~pi/2)\n",
    "    image /= 255.0\n",
    "    generated_image = np.arcsin(image)\n",
    "\n",
    "    return generated_image\n",
    "\n",
    "# Convert color images to encodable form\n",
    "def image_normalization_col(image):\n",
    "    image = image.resize((32,32),resample=Image.NEAREST)\n",
    "    px = image.load()\n",
    "    w, h = 32, 32\n",
    "    imagea = np.zeros((32,32)) + 1\n",
    "    imager = np.array([[image.getpixel((x,y))[0] for x in range(w)] for y in range(h)])\n",
    "    imageg = np.array([[image.getpixel((x,y))[1] for x in range(w)] for y in range(h)])\n",
    "    imageb = np.array([[image.getpixel((x,y))[2] for x in range(w)] for y in range(h)])\n",
    "\n",
    "    # 2-dimentional data convert to 1-dimentional array\n",
    "    imagea = imagea.flatten()\n",
    "    imager = imager.flatten()\n",
    "    imageg = imageg.flatten()\n",
    "    imageb = imageb.flatten()\n",
    "    \n",
    "    # change type\n",
    "    \n",
    "    imagea = imagea.astype('float64')\n",
    "    imager = imager.astype('float64')\n",
    "    imageg = imageg.astype('float64')\n",
    "    imageb = imageb.astype('float64')\n",
    "    # Normalization(0~pi/2)\n",
    "    imager /= 255.0\n",
    "    imageg /= 255.0\n",
    "    imageb /= 255.0\n",
    "    \n",
    "    generated_imager = np.arcsin(imagea)\n",
    "    generated_imager = np.arcsin(imager)\n",
    "    generated_imageg = np.arcsin(imageg)\n",
    "    generated_imageb = np.arcsin(imageb)\n",
    "\n",
    "    return np.concatenate((imagea, imager, imageg, imageb), axis=None)"
   ]
  },
  {
   "cell_type": "code",
   "execution_count": 73,
   "metadata": {},
   "outputs": [],
   "source": [
    "def enc_img_bw(image):\n",
    "    anc_bw = QuantumRegister(1, \"anc_bw\")\n",
    "    img_bw = QuantumRegister(11, \"img_bw\")\n",
    "    anc2_bw = QuantumRegister(1, \"anc2_bw\")\n",
    "    c_bw = ClassicalRegister(12)\n",
    "    qc = QuantumCircuit(anc_bw, img_bw, anc2_bw,c_bw)\n",
    "    \n",
    "    for i in range(1, len(img_bw)):\n",
    "        qc.h(img_bw[i])\n",
    "    for i in range(len(image)):\n",
    "        if image[i] != 0:\n",
    "                frqi.c10mary(qc, 2 * image[i], format(i, '010b'), img_bw[0], anc2_bw[0], [img_bw[j] for j in range(1,len(img_bw))])\n",
    "    return (anc_bw, img_bw, anc2_bw, c_bw, qc)\n",
    "    "
   ]
  },
  {
   "cell_type": "code",
   "execution_count": 43,
   "metadata": {},
   "outputs": [],
   "source": [
    "def enc_img_col(image):\n",
    "    anc_col = QuantumRegister(1, \"anc_col\")\n",
    "    img_col = QuantumRegister(14, \"img_col\")\n",
    "    anc2_col = QuantumRegister(4, \"anc2_col\")\n",
    "    c_col = ClassicalRegister(15)\n",
    "    qc_col = QuantumCircuit(anc_col, img_col, anc2_col,c_col)\n",
    "    \n",
    "    for i in range(4, len(img_col)):\n",
    "        qc_col.h(img_col[i])\n",
    "    \n",
    "    imlen = int(len(image)/4)\n",
    "    \n",
    "    offseta = 0\n",
    "    offsetr = imlen\n",
    "    offsetg = imlen * 2\n",
    "    offsetb = imlen * 3\n",
    "    \n",
    "    for i in range(imlen):\n",
    "        if image[i+offseta] != 0:\n",
    "                frqi.c10mary(qc_col, 2 * image[i+offseta], format(i, '010b'), img_col[0], anc2_col[0], [img_col[j] for j in range(4,len(img_col))])\n",
    "        if image[i+offsetr] != 0:\n",
    "                frqi.c10mary(qc_col, 2 * image[i+offsetr], format(i, '010b'), img_col[1], anc2_col[1], [img_col[j] for j in range(4,len(img_col))])\n",
    "        if image[i+offsetg] != 0:\n",
    "                frqi.c10mary(qc_col, 2 * image[i+offsetg], format(i, '010b'), img_col[2], anc2_col[2], [img_col[j] for j in range(4,len(img_col))])\n",
    "        if image[i+offsetb] != 0:\n",
    "                frqi.c10mary(qc_col, 2 * image[i+offsetb], format(i, '010b'), img_col[3], anc2_col[3], [img_col[j] for j in range(4,len(img_col))])\n",
    " \n",
    "    return (anc_col, img_col, anc2_col, c_col, qc_col) "
   ]
  },
  {
   "cell_type": "code",
   "execution_count": 12,
   "metadata": {},
   "outputs": [],
   "source": [
    "def enc_img_bw_mod(image, op=1):\n",
    "    (anc_bw, img_bw, anc2_bw, c_bw, qc) = enc_img_bw(image)\n",
    "    \n",
    "    if op==1:\n",
    "        qc = qc\n",
    "    elif op==2:\n",
    "        swap_x_y(qc, img_bw)\n",
    "    elif op == 3:\n",
    "        flip_x(qc, img_bw)\n",
    "    elif op == 4:\n",
    "        flip_y(qc, img_bw)\n",
    "    elif op == 5:\n",
    "        r90(qc, img_bw)\n",
    "    elif op == 6:\n",
    "        r180(qc, img_bw)\n",
    "    elif op == 7:\n",
    "        r270(qc, img_bw)\n",
    "    elif op == 8:\n",
    "        color_flip(qc, img_bw)\n",
    "    elif op == 9:\n",
    "        rotation_color_angle(qc, img_bw, (2*np.pi/3))\n",
    "    elif op == 10:\n",
    "        trial_color_angle(qc, img_bw, (np.pi/12.5))\n",
    "    elif op == 11:\n",
    "        qed.quantum_edge_detection(qc)\n",
    "    elif op == 12:\n",
    "        FourierTransformCircuits.construct_circuit(qc, img_bw)\n",
    "    else:\n",
    "        qc = qc\n",
    "    \n",
    "    qc.measure(anc_bw, c_bw[0])\n",
    "    qc.measure(img_bw, c_bw[1:12])\n",
    "    \n",
    "    retval = (anc_bw, img_bw, anc2_bw, c_bw, qc)\n",
    "    \n",
    "    return retval"
   ]
  },
  {
   "cell_type": "code",
   "execution_count": 44,
   "metadata": {},
   "outputs": [],
   "source": [
    "def enc_img_col_mod(image, op=1):\n",
    "    (anc_col, img_col, anc2_col, c_col, qc_col) = enc_img_col(image)\n",
    "    if op == 1:\n",
    "        qc_col = qc_col\n",
    "    else:\n",
    "        qc_col = qc_col\n",
    "    qc_col.measure(anc_col, c_col[0])\n",
    "    qc_col.measure(img_col, c_col[1:15])\n",
    "    \n",
    "    retval = (anc_col, img_col, anc2_col, c_col, qc_col)\n",
    "    \n",
    "    return retval"
   ]
  },
  {
   "cell_type": "code",
   "execution_count": 21,
   "metadata": {},
   "outputs": [],
   "source": [
    "def decode_image_bw(result, qc, shots, w, h):\n",
    "    genimg = np.array([])\n",
    "    sz = w*h\n",
    "    for i in range(sz):\n",
    "        try:\n",
    "                genimg = np.append(genimg,[np.sqrt(result.get_counts(qc)[format(i, '010b')+'10']/shots)])\n",
    "        except KeyError:\n",
    "                genimg = np.append(genimg,[0.0])\n",
    "    genimg *= 32.0 * 255.0\n",
    "    genimg = genimg.astype('int')\n",
    "    genimg = genimg.reshape((w,h))\n",
    "    return genimg"
   ]
  },
  {
   "cell_type": "code",
   "execution_count": 47,
   "metadata": {},
   "outputs": [],
   "source": [
    "def decode_image_col(result, qc_col, shots, w, h):\n",
    "    genimg_col = np.array([])\n",
    "    sz = w*h\n",
    "    \n",
    "    for i in range(sz):\n",
    "        try:\n",
    "                genimg_col = np.append(genimg_col,[np.sqrt(result_col.get_counts(qc_col)[format(i, '010b')+'00010']/shots)])\n",
    "        except KeyError:\n",
    "                genimg_col = np.append(genimg_col,[0.0])\n",
    "    \n",
    "    for i in range(sz):\n",
    "        try:\n",
    "                genimg_col = np.append(genimg_col,[np.sqrt(result_col.get_counts(qc_col)[format(i, '010b')+'00100']/shots)])\n",
    "        except KeyError:\n",
    "                genimg_col = np.append(genimg_col,[0.0])\n",
    "    \n",
    "    for i in range(sz):\n",
    "        try:\n",
    "                genimg_col = np.append(genimg_col,[np.sqrt(result_col.get_counts(qc_col)[format(i, '010b')+'01000']/shots)])\n",
    "        except KeyError:\n",
    "                genimg_col = np.append(genimg_col,[0.0])\n",
    "    \n",
    "    for i in range(sz):\n",
    "        try:\n",
    "                genimg_col = np.append(genimg_col,[np.sqrt(result_col.get_counts(qc_col)[format(i, '010b')+'10000']/shots)])\n",
    "        except KeyError:\n",
    "                genimg_col = np.append(genimg_col,[0.0])\n",
    "    \n",
    "    genimg_col *= 32.0 * 255.0\n",
    "    genimg_col = genimg_col.astype('int')\n",
    "    genimg_col = genimg_col.reshape((w,h,4))\n",
    "    \n",
    "    return genimg_col"
   ]
  },
  {
   "cell_type": "code",
   "execution_count": 17,
   "metadata": {},
   "outputs": [],
   "source": [
    "imageNames = [\"images.jpeg\",\"download.jpeg\",\"Pic.jpg\",\n",
    "              \"Pic2.jpg\",\"Original 640x426/Tokyo - ISS030-E-82770.JPG\", \n",
    "              \"Original 640x426/Osaka - ISS030-E-184140.JPG\", \"Original 640x426/Nagoya - ISS038-E-11205.JPG\"]\n",
    "imageNum1 = 0\n",
    "imageNum2 = 0\n",
    "\n",
    "image1 = Image.open(imageNames[imageNum1]).convert('LA')\n",
    "image2 = Image.open(imageNames[imageNum1])\n",
    "\n",
    "\n",
    "image1 = image_normalization(image1)\n",
    "image2 = image_normalization_col(image2)"
   ]
  },
  {
   "cell_type": "code",
   "execution_count": 18,
   "metadata": {},
   "outputs": [],
   "source": [
    "num_of_shots = 1024*1024*1\n",
    "w = 32\n",
    "h = 32\n",
    "backend = Aer.get_backend('qasm_simulator')"
   ]
  },
  {
   "cell_type": "code",
   "execution_count": 27,
   "metadata": {},
   "outputs": [
    {
     "data": {
      "text/plain": [
       "<matplotlib.image.AxesImage at 0x7f19b3204860>"
      ]
     },
     "execution_count": 27,
     "metadata": {},
     "output_type": "execute_result"
    },
    {
     "data": {
      "image/png": "[encoded data removed]",
      "text/plain": [
       "<Figure size 432x288 with 1 Axes>"
      ]
     },
     "metadata": {
      "needs_background": "light"
     },
     "output_type": "display_data"
    }
   ],
   "source": [
    "image_og = Image.open(imageNames[imageNum1]).convert('LA')\n",
    "image_og_small = resizeimage.resize_cover(image_og, [32, 32])\n",
    "plt.imshow(image_og_small, cmap='gray')"
   ]
  },
  {
   "cell_type": "code",
   "execution_count": 23,
   "metadata": {},
   "outputs": [
    {
     "data": {
      "text/plain": [
       "<matplotlib.image.AxesImage at 0x7f19b21bf2e8>"
      ]
     },
     "execution_count": 23,
     "metadata": {},
     "output_type": "execute_result"
    },
    {
     "data": {
      "image/png": "[encoded data removed]",
      "text/plain": [
       "<Figure size 432x288 with 1 Axes>"
      ]
     },
     "metadata": {
      "needs_background": "light"
     },
     "output_type": "display_data"
    }
   ],
   "source": [
    "(anc_bw, img_bw, anc2_bw, c_bw, qc) = enc_img_bw_mod(image1, 1)\n",
    "result_bw = execute(qc, backend, shots=num_of_shots, backend_options={\"fusion_enable\":True}).result()\n",
    "img_result = decode_image_bw(result_bw, qc, num_of_shots, w, h)\n",
    "plt.imshow(img_result, cmap='gray')"
   ]
  },
  {
   "cell_type": "code",
   "execution_count": 28,
   "metadata": {},
   "outputs": [
    {
     "data": {
      "text/plain": [
       "<matplotlib.image.AxesImage at 0x7f19b1da9048>"
      ]
     },
     "execution_count": 28,
     "metadata": {},
     "output_type": "execute_result"
    },
    {
     "data": {
      "image/png": "[encoded data removed]",
      "text/plain": [
       "<Figure size 432x288 with 1 Axes>"
      ]
     },
     "metadata": {
      "needs_background": "light"
     },
     "output_type": "display_data"
    }
   ],
   "source": [
    "(anc_bw, img_bw, anc2_bw, c_bw, qc) = enc_img_bw_mod(image1, 2)\n",
    "result_bw = execute(qc, backend, shots=num_of_shots, backend_options={\"fusion_enable\":True}).result()\n",
    "img_result = decode_image_bw(result_bw, qc, num_of_shots, w, h)\n",
    "plt.imshow(img_result, cmap='gray')"
   ]
  },
  {
   "cell_type": "code",
   "execution_count": 29,
   "metadata": {},
   "outputs": [
    {
     "data": {
      "text/plain": [
       "<matplotlib.image.AxesImage at 0x7f19ae447a58>"
      ]
     },
     "execution_count": 29,
     "metadata": {},
     "output_type": "execute_result"
    },
    {
     "data": {
      "image/png": "[encoded data removed]",
      "text/plain": [
       "<Figure size 432x288 with 1 Axes>"
      ]
     },
     "metadata": {
      "needs_background": "light"
     },
     "output_type": "display_data"
    }
   ],
   "source": [
    "(anc_bw, img_bw, anc2_bw, c_bw, qc) = enc_img_bw_mod(image1, 3)\n",
    "result_bw = execute(qc, backend, shots=num_of_shots, backend_options={\"fusion_enable\":True}).result()\n",
    "img_result = decode_image_bw(result_bw, qc, num_of_shots, w, h)\n",
    "plt.imshow(img_result, cmap='gray')"
   ]
  },
  {
   "cell_type": "code",
   "execution_count": 30,
   "metadata": {},
   "outputs": [
    {
     "data": {
      "text/plain": [
       "<matplotlib.image.AxesImage at 0x7f19b3570438>"
      ]
     },
     "execution_count": 30,
     "metadata": {},
     "output_type": "execute_result"
    },
    {
     "data": {
      "image/png": "[encoded data removed]",
      "text/plain": [
       "<Figure size 432x288 with 1 Axes>"
      ]
     },
     "metadata": {
      "needs_background": "light"
     },
     "output_type": "display_data"
    }
   ],
   "source": [
    "(anc_bw, img_bw, anc2_bw, c_bw, qc) = enc_img_bw_mod(image1, 4)\n",
    "result_bw = execute(qc, backend, shots=num_of_shots, backend_options={\"fusion_enable\":True}).result()\n",
    "img_result = decode_image_bw(result_bw, qc, num_of_shots, w, h)\n",
    "plt.imshow(img_result, cmap='gray')"
   ]
  },
  {
   "cell_type": "code",
   "execution_count": 31,
   "metadata": {},
   "outputs": [
    {
     "data": {
      "text/plain": [
       "<matplotlib.image.AxesImage at 0x7f19b45409b0>"
      ]
     },
     "execution_count": 31,
     "metadata": {},
     "output_type": "execute_result"
    },
    {
     "data": {
      "image/png": "[encoded data removed]",
      "text/plain": [
       "<Figure size 432x288 with 1 Axes>"
      ]
     },
     "metadata": {
      "needs_background": "light"
     },
     "output_type": "display_data"
    }
   ],
   "source": [
    "(anc_bw, img_bw, anc2_bw, c_bw, qc) = enc_img_bw_mod(image1, 5)\n",
    "result_bw = execute(qc, backend, shots=num_of_shots, backend_options={\"fusion_enable\":True}).result()\n",
    "img_result = decode_image_bw(result_bw, qc, num_of_shots, w, h)\n",
    "plt.imshow(img_result, cmap='gray')"
   ]
  },
  {
   "cell_type": "code",
   "execution_count": 32,
   "metadata": {},
   "outputs": [
    {
     "data": {
      "text/plain": [
       "<matplotlib.image.AxesImage at 0x7f19b1150be0>"
      ]
     },
     "execution_count": 32,
     "metadata": {},
     "output_type": "execute_result"
    },
    {
     "data": {
      "image/png": "[encoded data removed]",
      "text/plain": [
       "<Figure size 432x288 with 1 Axes>"
      ]
     },
     "metadata": {
      "needs_background": "light"
     },
     "output_type": "display_data"
    }
   ],
   "source": [
    "(anc_bw, img_bw, anc2_bw, c_bw, qc) = enc_img_bw_mod(image1, 6)\n",
    "result_bw = execute(qc, backend, shots=num_of_shots, backend_options={\"fusion_enable\":True}).result()\n",
    "img_result = decode_image_bw(result_bw, qc, num_of_shots, w, h)\n",
    "plt.imshow(img_result, cmap='gray')"
   ]
  },
  {
   "cell_type": "code",
   "execution_count": 33,
   "metadata": {},
   "outputs": [
    {
     "data": {
      "text/plain": [
       "<matplotlib.image.AxesImage at 0x7f19b81ef518>"
      ]
     },
     "execution_count": 33,
     "metadata": {},
     "output_type": "execute_result"
    },
    {
     "data": {
      "image/png": "[encoded data removed]",
      "text/plain": [
       "<Figure size 432x288 with 1 Axes>"
      ]
     },
     "metadata": {
      "needs_background": "light"
     },
     "output_type": "display_data"
    }
   ],
   "source": [
    "(anc_bw, img_bw, anc2_bw, c_bw, qc) = enc_img_bw_mod(image1, 7)\n",
    "result_bw = execute(qc, backend, shots=num_of_shots, backend_options={\"fusion_enable\":True}).result()\n",
    "img_result = decode_image_bw(result_bw, qc, num_of_shots, w, h)\n",
    "plt.imshow(img_result, cmap='gray')"
   ]
  },
  {
   "cell_type": "code",
   "execution_count": 34,
   "metadata": {},
   "outputs": [
    {
     "data": {
      "text/plain": [
       "<matplotlib.image.AxesImage at 0x7f19bbb075f8>"
      ]
     },
     "execution_count": 34,
     "metadata": {},
     "output_type": "execute_result"
    },
    {
     "data": {
      "image/png": "[encoded data removed]",
      "text/plain": [
       "<Figure size 432x288 with 1 Axes>"
      ]
     },
     "metadata": {
      "needs_background": "light"
     },
     "output_type": "display_data"
    }
   ],
   "source": [
    "(anc_bw, img_bw, anc2_bw, c_bw, qc) = enc_img_bw_mod(image1, 8)\n",
    "result_bw = execute(qc, backend, shots=num_of_shots, backend_options={\"fusion_enable\":True}).result()\n",
    "img_result = decode_image_bw(result_bw, qc, num_of_shots, w, h)\n",
    "plt.imshow(img_result, cmap='gray')"
   ]
  },
  {
   "cell_type": "code",
   "execution_count": 54,
   "metadata": {},
   "outputs": [
    {
     "data": {
      "text/plain": [
       "<matplotlib.image.AxesImage at 0x7f19c677e1d0>"
      ]
     },
     "execution_count": 54,
     "metadata": {},
     "output_type": "execute_result"
    },
    {
     "data": {
      "image/png": "[encoded data removed]",
      "text/plain": [
       "<Figure size 432x288 with 1 Axes>"
      ]
     },
     "metadata": {
      "needs_background": "light"
     },
     "output_type": "display_data"
    }
   ],
   "source": [
    "(anc_bw, img_bw, anc2_bw, c_bw, qc) = enc_img_bw_mod(image1, 9)\n",
    "result_bw = execute(qc, backend, shots=num_of_shots, backend_options={\"fusion_enable\":True}).result()\n",
    "img_result = decode_image_bw(result_bw, qc, num_of_shots, w, h)\n",
    "plt.imshow(img_result, cmap='gray')"
   ]
  },
  {
   "cell_type": "code",
   "execution_count": 36,
   "metadata": {},
   "outputs": [
    {
     "data": {
      "text/plain": [
       "<matplotlib.image.AxesImage at 0x7f19be369f98>"
      ]
     },
     "execution_count": 36,
     "metadata": {},
     "output_type": "execute_result"
    },
    {
     "data": {
      "image/png": "[encoded data removed]",
      "text/plain": [
       "<Figure size 432x288 with 1 Axes>"
      ]
     },
     "metadata": {
      "needs_background": "light"
     },
     "output_type": "display_data"
    }
   ],
   "source": [
    "(anc_bw, img_bw, anc2_bw, c_bw, qc) = enc_img_bw_mod(image1, 10)\n",
    "result_bw = execute(qc, backend, shots=num_of_shots, backend_options={\"fusion_enable\":True}).result()\n",
    "img_result = decode_image_bw(result_bw, qc, num_of_shots, w, h)\n",
    "plt.imshow(img_result, cmap='gray')"
   ]
  },
  {
   "cell_type": "code",
   "execution_count": 37,
   "metadata": {},
   "outputs": [
    {
     "data": {
      "text/plain": [
       "<matplotlib.image.AxesImage at 0x7f19c14c8b00>"
      ]
     },
     "execution_count": 37,
     "metadata": {},
     "output_type": "execute_result"
    },
    {
     "data": {
      "image/png": "[encoded data removed]",
      "text/plain": [
       "<Figure size 432x288 with 1 Axes>"
      ]
     },
     "metadata": {
      "needs_background": "light"
     },
     "output_type": "display_data"
    }
   ],
   "source": [
    "(anc_bw, img_bw, anc2_bw, c_bw, qc) = enc_img_bw_mod(image1, 11)\n",
    "result_bw = execute(qc, backend, shots=num_of_shots, backend_options={\"fusion_enable\":True}).result()\n",
    "img_result = decode_image_bw(result_bw, qc, num_of_shots, w, h)\n",
    "plt.imshow(img_result, cmap='gray')"
   ]
  },
  {
   "cell_type": "code",
   "execution_count": 77,
   "metadata": {},
   "outputs": [
    {
     "data": {
      "text/plain": [
       "<matplotlib.image.AxesImage at 0x7f1902a26780>"
      ]
     },
     "execution_count": 77,
     "metadata": {},
     "output_type": "execute_result"
    },
    {
     "data": {
      "image/png": "[encoded data removed]",
      "text/plain": [
       "<Figure size 432x288 with 1 Axes>"
      ]
     },
     "metadata": {
      "needs_background": "light"
     },
     "output_type": "display_data"
    }
   ],
   "source": [
    "arr1 = np.array(image1).reshape(32,32)\n",
    "delta_filt = np.array([1,-1, -1, 1]).reshape(2,2)\n",
    "plt.imshow(convolve2d(arr1, delta_filt), cmap='gray')"
   ]
  },
  {
   "cell_type": "code",
   "execution_count": 38,
   "metadata": {},
   "outputs": [
    {
     "data": {
      "text/plain": [
       "<matplotlib.image.AxesImage at 0x7f19c6b30fd0>"
      ]
     },
     "execution_count": 38,
     "metadata": {},
     "output_type": "execute_result"
    },
    {
     "data": {
      "image/png": "[encoded data removed]",
      "text/plain": [
       "<Figure size 432x288 with 1 Axes>"
      ]
     },
     "metadata": {
      "needs_background": "light"
     },
     "output_type": "display_data"
    }
   ],
   "source": [
    "(anc_bw, img_bw, anc2_bw, c_bw, qc) = enc_img_bw_mod(image1, 12)\n",
    "result_bw = execute(qc, backend, shots=num_of_shots, backend_options={\"fusion_enable\":True}).result()\n",
    "img_result = decode_image_bw(result_bw, qc, num_of_shots, w, h)\n",
    "plt.imshow(img_result, cmap='gray')"
   ]
  },
  {
   "cell_type": "code",
   "execution_count": 75,
   "metadata": {},
   "outputs": [
    {
     "data": {
      "image/png": "[encoded data removed]",
      "text/plain": [
       "<Figure size 432x288 with 1 Axes>"
      ]
     },
     "metadata": {
      "needs_background": "light"
     },
     "output_type": "display_data"
    }
   ],
   "source": [
    "from numpy.fft import fft2, fftshift, ifftshift, ifft2\n",
    "fft_new = fftshift(fft2(image1.reshape(32,32)))\n",
    "img_ff = np.log(np.abs(fft_new))\n",
    "plt.imshow(img_ff, cmap='gray')\n",
    "plt.show()"
   ]
  },
  {
   "cell_type": "code",
   "execution_count": 50,
   "metadata": {},
   "outputs": [],
   "source": [
    "num_of_shots = 1024*1024*8"
   ]
  },
  {
   "cell_type": "code",
   "execution_count": 55,
   "metadata": {},
   "outputs": [
    {
     "data": {
      "text/plain": [
       "<matplotlib.image.AxesImage at 0x7f191a6217b8>"
      ]
     },
     "execution_count": 55,
     "metadata": {},
     "output_type": "execute_result"
    },
    {
     "data": {
      "image/png": "[encoded data removed]",
      "text/plain": [
       "<Figure size 432x288 with 1 Axes>"
      ]
     },
     "metadata": {
      "needs_background": "light"
     },
     "output_type": "display_data"
    }
   ],
   "source": [
    "(anc_col, img_col, anc2_col, c_col, qc_col) = enc_img_col_mod(image2, 1)\n",
    "result_col = execute(qc_col, backend, shots=num_of_shots, backend_options={\"fusion_enable\":True}).result()\n",
    "img_result_col = decode_image_col(result_col, qc_col, num_of_shots, w, h)\n",
    "img_result_col = img_result_col[:,:,1:4]\n",
    "plt.imshow(img_result_col, cmap='gray')"
   ]
  }
 ],
 "metadata": {
  "kernelspec": {
   "display_name": "Python 3",
   "language": "python",
   "name": "python3"
  },
  "language_info": {
   "codemirror_mode": {
    "name": "ipython",
    "version": 3
   },
   "file_extension": ".py",
   "mimetype": "text/x-python",
   "name": "python",
   "nbconvert_exporter": "python",
   "pygments_lexer": "ipython3",
   "version": "3.6.9"
  }
 },
 "nbformat": 4,
 "nbformat_minor": 4
}
